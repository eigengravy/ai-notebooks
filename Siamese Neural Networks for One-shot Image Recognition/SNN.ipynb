{
  "cells": [
    {
      "cell_type": "code",
      "execution_count": 1,
      "metadata": {
        "id": "jpBmIHkcf6aK"
      },
      "outputs": [],
      "source": [
        "from torchvision import transforms\n",
        "from torchvision.datasets import Omniglot\n",
        "import torch\n",
        "from torch.utils.data import DataLoader"
      ]
    },
    {
      "cell_type": "code",
      "execution_count": 2,
      "metadata": {
        "id": "J1hwpEujgbgn"
      },
      "outputs": [],
      "source": [
        "import jax\n",
        "import jax.numpy as jnp\n",
        "import numpy as np\n",
        "import matplotlib.pyplot as plt"
      ]
    },
    {
      "cell_type": "code",
      "execution_count": null,
      "metadata": {
        "id": "eljU87aVIneg"
      },
      "outputs": [],
      "source": [
        "!pip install flax\n",
        "import flax\n",
        "import flax.linen as nn\n",
        "import optax"
      ]
    },
    {
      "cell_type": "code",
      "execution_count": null,
      "metadata": {
        "id": "fBth98NtO9sg"
      },
      "outputs": [],
      "source": [
        "transform = transforms.Compose([transforms.ToTensor(), transforms.Normalize((0.5,),(0.5,),)])\n",
        "background_set = Omniglot(root='./data', background=True, download=True, transform=transform)\n",
        "evaluation_set = Omniglot(root='./data', background=False, download=True, transform=transform)"
      ]
    },
    {
      "cell_type": "code",
      "execution_count": 13,
      "metadata": {
        "id": "v2VCWKTnPBDN"
      },
      "outputs": [],
      "source": [
        "batch_size = 10\n",
        "background_set_loader = DataLoader(background_set, batch_size = batch_size)\n",
        "evaluation_set_loader = DataLoader(evaluation_set, batch_size = batch_size)"
      ]
    },
    {
      "cell_type": "code",
      "execution_count": 6,
      "metadata": {
        "id": "fEBFLbNvIy-I"
      },
      "outputs": [],
      "source": [
        "class SiameseNet(nn.Module):\n",
        "  def setup(self):\n",
        "    self.conv1 = nn.Conv(features=64, kernel_size=(10,10), name=\"Conv2D1\")\n",
        "    self.conv2 = nn.Conv(features=128, kernel_size=(7,7), name=\"Conv2D2\")\n",
        "    self.conv3 = nn.Conv(features=128, kernel_size=(4,4), name=\"Conv2D3\")\n",
        "    self.conv4 = nn.Conv(features=256, kernel_size=(4,4), name=\"Conv2D4\")\n",
        "    self.encoder = nn.Dense(4096, name=\"Encoder\")\n",
        "    self.liner = nn.Dense(1, name=\"1DLayer\")\n",
        "\n",
        "  def __call__(self,input1,input2):\n",
        "    x1 = nn.relu(self.conv1(input1))\n",
        "    x1 = nn.max_pool(x1, window_shape=(2, 2), strides=(2,2))\n",
        "    x1 = nn.relu(self.conv2(x1))\n",
        "    x1 = nn.max_pool(x1, window_shape=(2, 2), strides=(2,2))\n",
        "    x1 = nn.relu(self.conv3(x1))\n",
        "    x1 = nn.max_pool(x1, window_shape=(2, 2), strides=(2,2))\n",
        "    x1 = nn.relu(self.conv4(x1))\n",
        "    x1 = x1.reshape((x1.shape[0], -1)) \n",
        "    x1 = nn.sigmoid(self.encoder(x1)) \n",
        " \n",
        "    x2 = nn.relu(self.conv1(input2))\n",
        "    x2 = nn.max_pool(x2, window_shape=(2, 2), strides=(2,2))\n",
        "    x2 = nn.relu(self.conv2(x2))\n",
        "    x2 = nn.max_pool(x2, window_shape=(2, 2), strides=(2,2))\n",
        "    x2 = nn.relu(self.conv3(x2))\n",
        "    x2 = nn.max_pool(x2, window_shape=(2, 2), strides=(2,2))\n",
        "    x2 = nn.relu(self.conv4(x2))\n",
        "    x2 = x2.reshape((x2.shape[0], -1)) \n",
        "    x2 = nn.sigmoid(self.encoder(x2)) \n",
        "\n",
        "    l1_dist = jnp.abs(x1 - x2) \n",
        "    return self.liner(l1_dist)"
      ]
    },
    {
      "cell_type": "code",
      "execution_count": 14,
      "metadata": {
        "id": "FO5bwQT1Iq1Q"
      },
      "outputs": [],
      "source": [
        "model = SiameseNet()"
      ]
    },
    {
      "cell_type": "code",
      "execution_count": 15,
      "metadata": {
        "id": "U6pXCeWZZnon"
      },
      "outputs": [],
      "source": [
        "seed = 42\n",
        "key = jax.random.PRNGKey(seed)\n",
        "shape = [batch_size, 105, 105]\n",
        "key, subkey = jax.random.split(key)\n",
        "x1 = jax.random.normal(subkey, shape=shape)\n",
        " \n",
        "key, subkey = jax.random.split(key)\n",
        "x2 = jax.random.normal(subkey, shape=shape)\n",
        " \n",
        "key, subkey = jax.random.split(key)"
      ]
    },
    {
      "cell_type": "code",
      "execution_count": 16,
      "metadata": {
        "id": "Mz9kA3WZP2me"
      },
      "outputs": [],
      "source": [
        "variables = model.init(subkey, x1, x2)"
      ]
    },
    {
      "cell_type": "code",
      "execution_count": 17,
      "metadata": {
        "id": "Ai7gNte2PwS9"
      },
      "outputs": [],
      "source": [
        "def loss(params: optax.Params, batch: jnp.ndarray, labels: jnp.ndarray) -> jnp.ndarray:\n",
        "  y_hat = model.apply(params, batch, batch)\n",
        "  loss_value = optax.sigmoid_binary_cross_entropy(y_hat, labels).sum(axis=-1)\n",
        "  return loss_value.mean()"
      ]
    },
    {
      "cell_type": "code",
      "execution_count": 18,
      "metadata": {
        "id": "SpCgS6rdQPax"
      },
      "outputs": [],
      "source": [
        "def fit(params: optax.Params, optimizer: optax.GradientTransformation) -> optax.Params:\n",
        "  opt_state = optimizer.init(params)\n",
        "\n",
        "  @jax.jit\n",
        "  def step(params, opt_state, batch, labels):\n",
        "    loss_value, grads = jax.value_and_grad(loss)(params, batch, labels)\n",
        "    updates, opt_state = optimizer.update(grads, opt_state, params)\n",
        "    params = optax.apply_updates(params, updates)\n",
        "    return params, opt_state, loss_value\n",
        "\n",
        "  for i, (batch, labels) in enumerate(background_set_loader):\n",
        "    batch = jnp.array(batch.reshape(batch_size,105,105))\n",
        "    labels = jnp.array(labels)\n",
        "    params, opt_state, loss_value = step(params, opt_state, batch, labels)\n",
        "    if i % 100 == 0:\n",
        "      print(f'step {i}, loss: {loss_value}')\n",
        "\n",
        "  return params"
      ]
    },
    {
      "cell_type": "code",
      "execution_count": null,
      "metadata": {
        "colab": {
          "base_uri": "https://localhost:8080/"
        },
        "id": "8Hfmlfacg4pu",
        "outputId": "15019d5d-0965-4e01-a8ff-75198e1cf8f7"
      },
      "outputs": [
        {
          "name": "stdout",
          "output_type": "stream",
          "text": [
            "step 0, loss: 6.931471824645996\n",
            "step 100, loss: 6.300234794616699\n",
            "step 200, loss: 4.072996139526367\n",
            "step 300, loss: 0.21341514587402344\n",
            "step 400, loss: -5.263023376464844\n"
          ]
        }
      ],
      "source": [
        "optimizer = optax.adam(learning_rate=0.00001)\n",
        "variables = fit(variables, optimizer)"
      ]
    }
  ],
  "metadata": {
    "colab": {
      "collapsed_sections": [],
      "name": "Siamese Network on Omniglot Dataset in Jax.ipynb",
      "provenance": []
    },
    "kernelspec": {
      "display_name": "Python 3",
      "language": "python",
      "name": "python3"
    },
    "language_info": {
      "name": "python",
      "version": "3.10.7 (main, Oct 11 2022, 11:15:13) [GCC 12.2.0]"
    },
    "vscode": {
      "interpreter": {
        "hash": "c1d08440b357c6233eac59b763b2a17058b76df17cd799cfbba30cf97e132baa"
      }
    }
  },
  "nbformat": 4,
  "nbformat_minor": 0
}
