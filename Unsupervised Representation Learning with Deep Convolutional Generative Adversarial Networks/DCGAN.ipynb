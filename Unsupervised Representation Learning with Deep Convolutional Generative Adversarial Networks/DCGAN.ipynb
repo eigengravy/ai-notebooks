{
  "nbformat": 4,
  "nbformat_minor": 0,
  "metadata": {
    "colab": {
      "provenance": [],
      "collapsed_sections": []
    },
    "kernelspec": {
      "name": "python3",
      "display_name": "Python 3"
    },
    "language_info": {
      "name": "python"
    },
    "accelerator": "GPU",
    "gpuClass": "standard"
  },
  "cells": [
    {
      "cell_type": "code",
      "source": [
        "import torch\n",
        "from torch import optim, nn\n",
        "import torch.nn.functional as F \n",
        "from torch.utils.data import DataLoader\n",
        "from torchvision import transforms, datasets"
      ],
      "metadata": {
        "id": "Hh9W9uTOviNW"
      },
      "execution_count": null,
      "outputs": []
    },
    {
      "cell_type": "code",
      "source": [
        "torch.manual_seed(0)\n",
        "device = torch.device(\"cuda:0\" if torch.cuda.is_available() else \"cpu\")"
      ],
      "metadata": {
        "id": "HqFa-wufwLuV"
      },
      "execution_count": null,
      "outputs": []
    },
    {
      "cell_type": "code",
      "source": [
        "# Constants from the literature \n",
        "input_size = 100\n",
        "learning_rate = 0.0002 \n",
        "beta1 = 0.5\n",
        "batch_size = 5"
      ],
      "metadata": {
        "id": "DdhOwCp8vR2p"
      },
      "execution_count": null,
      "outputs": []
    },
    {
      "cell_type": "code",
      "source": [
        "mnist_transforms = transforms.Compose([transforms.Resize((32,32)),transforms.ToTensor(),transforms.Normalize((0.5,), (0.5,))])\n",
        "train_dataset = datasets.MNIST(root='/data/MNIST', train=True, download=True, transform=mnist_transforms)\n",
        "train_loader = DataLoader(train_dataset, batch_size=batch_size, shuffle=True) \n",
        "test_dataset = datasets.MNIST(root='/data/MNIST', train=False, download=True, transform=mnist_transforms)\n",
        "test_loader = DataLoader(test_dataset, batch_size=batch_size, shuffle=True) "
      ],
      "metadata": {
        "id": "_Yoz3Vs560Jl"
      },
      "execution_count": null,
      "outputs": []
    },
    {
      "cell_type": "code",
      "execution_count": null,
      "metadata": {
        "id": "z_rmis0juS9M"
      },
      "outputs": [],
      "source": [
        "class Generator(nn.Module):\n",
        "  def __init__(self):\n",
        "    super(Generator, self).__init__()\n",
        "\n",
        "    self.fsconv1 = nn.ConvTranspose2d(input_size, 512, 4, 1, 0, bias=False)\n",
        "    self.norm1 = nn.BatchNorm2d(512)\n",
        "\n",
        "    self.fsconv2 = nn.ConvTranspose2d(512, 256, 4, 2, 1, bias=False)\n",
        "    self.norm2 = nn.BatchNorm2d(256)\n",
        "\n",
        "    self.fsconv3 = nn.ConvTranspose2d(256, 128, 4, 2, 1, bias=False)\n",
        "    self.norm3 = nn.BatchNorm2d(128)\n",
        "    \n",
        "    self.fsconv4 = nn.ConvTranspose2d(128, 1, 4, 2, 1, bias=False)\n",
        "\n",
        "  def forward(self, x):\n",
        "    x = F.relu(self.norm1(self.fsconv1(x)))\n",
        "    x = F.relu(self.norm2(self.fsconv2(x)))\n",
        "    x = F.relu(self.norm3(self.fsconv3(x)))\n",
        "    x = torch.tanh(self.fsconv4(x))\n",
        "    return x"
      ]
    },
    {
      "cell_type": "code",
      "source": [
        "class Discriminator(nn.Module):\n",
        "  def __init__(self):\n",
        "    super(Discriminator, self).__init__()\n",
        "\n",
        "    self.sconv1 = nn.ConvTranspose2d(1, 64, 4, 2, 1, bias=False)\n",
        "    \n",
        "    self.sconv2 = nn.ConvTranspose2d(64, 128, 4, 2, 1, bias=False)\n",
        "    self.norm1 = nn.BatchNorm2d(128)\n",
        "\n",
        "    self.sconv3 = nn.ConvTranspose2d(128, 256, 4, 2, 1, bias=False)\n",
        "    self.norm2 = nn.BatchNorm2d(256)\n",
        "\n",
        "    self.sconv4 = nn.ConvTranspose2d(256, 512, 4, 2, 1, bias=False)\n",
        "    self.norm3 = nn.BatchNorm2d(512)\n",
        "\n",
        "    self.sconv5= nn.ConvTranspose2d(512, 1, 4, 1, 0, bias=False)\n",
        "\n",
        "  def forward(self, x):\n",
        "    x = F.leaky_relu(self.sconv1(x),0.2)\n",
        "    x = F.leaky_relu(self.norm1(self.sconv2(x)),0.2)\n",
        "    x = F.leaky_relu(self.norm2(self.sconv3(x)),0.2)\n",
        "    x = F.leaky_relu(self.norm3(self.sconv4(x)),0.2)\n",
        "    x = torch.sigmoid(self.sconv5(x))\n",
        "    x = x.reshape(-1, 1).squeeze(1)\n",
        "    return x"
      ],
      "metadata": {
        "id": "SQ8-ofPnvNdw"
      },
      "execution_count": null,
      "outputs": []
    },
    {
      "cell_type": "code",
      "source": [
        "def init_weights(m):\n",
        "    if isinstance(m, nn.Linear):\n",
        "        torch.nn.init.normal(m.weight, 0.0, 0.02)"
      ],
      "metadata": {
        "id": "yz0ach5KyMsd"
      },
      "execution_count": null,
      "outputs": []
    },
    {
      "cell_type": "code",
      "source": [
        "gen = Generator().to(device)\n",
        "gen.apply(init_weights)\n",
        "disc = Discriminator().to(device)\n",
        "disc.apply(init_weights)"
      ],
      "metadata": {
        "id": "sRnPk51n8-q9"
      },
      "execution_count": null,
      "outputs": []
    },
    {
      "cell_type": "code",
      "source": [
        "optimizer_gen = optim.Adam(gen.parameters(), lr=learning_rate, betas=(beta1, 0.999))\n",
        "optimizer_disc = optim.Adam(disc.parameters(), lr=learning_rate, betas=(beta1, 0.999))"
      ],
      "metadata": {
        "id": "UBDDyyQWzeox"
      },
      "execution_count": null,
      "outputs": []
    },
    {
      "cell_type": "code",
      "source": [
        "real_label = 1\n",
        "fake_label = 0"
      ],
      "metadata": {
        "id": "XAx80dFhz8IY"
      },
      "execution_count": null,
      "outputs": []
    },
    {
      "cell_type": "code",
      "source": [
        "num_epochs = 10\n",
        "\n",
        "for epoch in range(num_epochs):\n",
        "  for i, (real_images, _) in enumerate(train_loader):\n",
        "    torch.cuda.empty_cache()\n",
        "\n",
        "    optimizer_disc.zero_grad()\n",
        "\n",
        "    real_images = real_images.to(device)\n",
        "    \n",
        "    real_outputs = disc(real_images)\n",
        "    labels = torch.full((real_outputs.shape), real_label, device=device)\n",
        "    real_loss = F.binary_cross_entropy(real_outputs, labels.float())\n",
        "    real_loss.backward()\n",
        "\n",
        "    noise = torch.randn(batch_size, input_size, 1, 1, device=device)\n",
        "    fake_images = gen(noise)\n",
        "    labels.fill_(fake_label)\n",
        "    fake_outputs = disc(fake_images)\n",
        "    fake_loss = F.binary_cross_entropy(fake_outputs, labels.float())\n",
        "    fake_loss.backward()\n",
        "\n",
        "    optimizer_disc.step()\n",
        "\n",
        "    optimizer_gen.zero_grad()\n",
        "    labels.fill_(real_label)\n",
        "    outputs = disc(fake_images)\n",
        "    loss = F.binary_cross_entropy(outputs, labels.float())\n",
        "    loss.backward()\n",
        "\n",
        "    optimizer_gen.step()"
      ],
      "metadata": {
        "id": "2I0zIrmMzsk4"
      },
      "execution_count": null,
      "outputs": []
    }
  ]
}